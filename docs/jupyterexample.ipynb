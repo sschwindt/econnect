{
 "cells": [
  {
   "cell_type": "markdown",
   "metadata": {},
   "source": [
    "## Example"
   ]
  },
  {
   "cell_type": "markdown",
   "metadata": {},
   "source": [
    "#### To be able to run the programm, import all the needed packages first."
   ]
  },
  {
   "cell_type": "code",
   "execution_count": 1,
   "metadata": {},
   "outputs": [],
   "source": [
    "from tabulate import tabulate\n",
    "import sqlite3\n",
    "import csv\n",
    "import geopandas as geopandas\n",
    "import numpy as np\n",
    "import pandas as pd\n",
    "import os\n",
    "import platform\n",
    "import sqlite3\n",
    "import gdal\n",
    "from gdal import ogr\n",
    "from shapely.geometry import Point\n"
   ]
  },
  {
   "cell_type": "markdown",
   "metadata": {},
   "source": [
    "#### In this second step, the table ``plants`` in the ``Pflanzendaten`` database is created."
   ]
  },
  {
   "cell_type": "code",
   "execution_count": 2,
   "metadata": {},
   "outputs": [
    {
     "data": {
      "text/plain": [
       "<sqlite3.Cursor at 0x20897235490>"
      ]
     },
     "execution_count": 2,
     "metadata": {},
     "output_type": "execute_result"
    }
   ],
   "source": [
    "connection = sqlite3.connect(\"Pflanzendaten.db\")\n",
    "cursor = connection.cursor()\n",
    "\n",
    "\n",
    "sql_command = \"\"\"\n",
    "CREATE TABLE IF NOT EXISTS plants (\n",
    "species VARCHAR(255),\n",
    "name VARCHAR(255),\n",
    "nativ BOOLEAN,\n",
    "endangered VARCHAR(255),\n",
    "habitat VARCHAR(255),\n",
    "waterdepthmin INTEGER(255),\n",
    "waterdepthmax  INTEGER(255),\n",
    "rootdepth INTEGER(255),\n",
    "groundwatertablechange VARCHAR(255),\n",
    "floodheightmax INTEGER(255),\n",
    "floodloss REAL(255),\n",
    "floodduration INTEGER(255),\n",
    "PRIMARY KEY (species, name, habitat)\n",
    ");\"\"\"\n",
    "\n",
    "cursor.execute(sql_command)"
   ]
  },
  {
   "cell_type": "markdown",
   "metadata": {},
   "source": [
    "#### The inputquestion() function is used to insert data into the table"
   ]
  },
  {
   "cell_type": "code",
   "execution_count": 3,
   "metadata": {},
   "outputs": [],
   "source": [
    "def inputquestion():\n",
    "    \"\"\"function that lets the user put data into the database\n",
    "\n",
    "    the function provides 2 options for data input, if option 1 is chosen via console input \"1\", the user can provide the name \n",
    "    of a csv file. if option 2 is chosen, the user can add a single row via sql command. If neither of those two options is \n",
    "    chosen, the function will print a string in the python console\n",
    "\n",
    "    Returns:\n",
    "        string in console if none of the two options above is chosen\n",
    "    \"\"\"\n",
    "    print('Enter 1 to input data from csv file\\n Enter 2 to input data via sql command')\n",
    "    src = int(input('Enter here:'))\n",
    "    if src == 1:\n",
    "\n",
    "        with open(input('enter csv-filename')+'.csv') as csvfile:\n",
    "            csv_reader_object = csv.reader(csvfile, delimiter=',')\n",
    "            with sqlite3.connect(\"Pflanzendaten.db\") as connection:\n",
    "                cursor = connection.cursor()\n",
    "                sql_command = \"\"\"\n",
    "                INSERT INTO plants (species,name,nativ,endangered,habitat,waterdepthmin,waterdepthmax,rootdepth,groundwatertablechange,floodheightmax,floodloss,floodduration)\n",
    "                VALUES (:species, :name, :nativ, :endangered, :habitat, :waterdepthmin, :waterdepthmax, :rootdepth, :groundwatertablechange, :floodheightmax, :floodloss, :floodduration)\n",
    "                \"\"\"\n",
    "                cursor.executemany(sql_command, csv_reader_object)\n",
    "    elif src == 2:\n",
    "        connection = sqlite3.connect(\"Pflanzendaten.db\")\n",
    "        cursor = connection.cursor()\n",
    "        sql_command = (input(\"\"\"Insert sql command\"\"\"))\n",
    "        cursor.execute(sql_command)\n",
    "        cursor.execute(\"COMMIT\")\n",
    "    else:\n",
    "        print('only able to import data to table using csv file or sql command')"
   ]
  },
  {
   "cell_type": "markdown",
   "metadata": {},
   "source": [
    "#### search_db_via_query() is allowing the usage of querys to search in the database for information"
   ]
  },
  {
   "cell_type": "code",
   "execution_count": 4,
   "metadata": {},
   "outputs": [],
   "source": [
    "def search_db_via_query(query):\n",
    "    \"\"\"Function that checks database for matching entries with user input.\n",
    "\n",
    "    The function takes the user input and adds it to the used sql command to search for matching entries in the provided database\n",
    "    if there are matching entries these will be printed in the python console\n",
    "\n",
    "    Args:\n",
    "        query (string): habitat name in sql, provided by the user\n",
    "\n",
    "    Returns:\n",
    "        table entries matching with user input\n",
    "    \"\"\"\n",
    "    connection = sqlite3.connect(\"Pflanzendaten.db\")\n",
    "    cursor = connection.cursor()\n",
    "    cursor.execute(\"SELECT * FROM plants WHERE \" + query)\n",
    "    content = cursor.fetchall()\n",
    "    print(tabulate((content), headers=['species', 'name', 'nativ', 'endangered', 'habitat', 'waterdepthmin', 'waterdepthmax', 'rootdepth', 'groundwatertablechange', 'floodheightmax', 'floodloss', 'floodduration']))\n",
    "    print('Status 1 equals nativ')\n",
    "\n",
    "    connection.close()"
   ]
  },
  {
   "cell_type": "markdown",
   "metadata": {},
   "source": [
    "#### To fill the table with data, run inputquestion() and select which option you want to chose. Note: the name of the provided csv file is \"plantdata\", if you want to try inserting data by using an sql command, just type it directly without using quotation marks."
   ]
  },
  {
   "cell_type": "code",
   "execution_count": 5,
   "metadata": {
    "scrolled": true
   },
   "outputs": [
    {
     "name": "stdout",
     "output_type": "stream",
     "text": [
      "Enter 1 to input data from csv file\n",
      " Enter 2 to input data via sql command\n",
      "Enter here:3\n",
      "only able to import data to table using csv file or sql command\n"
     ]
    }
   ],
   "source": [
    "inputquestion()"
   ]
  },
  {
   "cell_type": "markdown",
   "metadata": {},
   "source": [
    "#### After successfully inserting data into the database, you can search for plants by running search_db_via_query() and providing it with an habitat name (Alpenvorland, Niederrheinisches Tiefland or Oberrheinisches Tiefland). Note: unfortunately, due to jupyter notebook the output is overlapping and as a result looks a bit rough."
   ]
  },
  {
   "cell_type": "code",
   "execution_count": 7,
   "metadata": {
    "scrolled": false
   },
   "outputs": [
    {
     "name": "stdout",
     "output_type": "stream",
     "text": [
      "Enter name of habitat\n",
      "Oberrheinisches Tiefland\n",
      "species                                        name                             nativ  endangered           habitat                   waterdepthmin    waterdepthmax    rootdepth    groundwatertablechange    floodheightmax    floodloss    floodduration\n",
      "---------------------------------------------  -----------------------------  -------  -------------------  ------------------------  ---------------  ---------------  -----------  ------------------------  ----------------  -----------  ---------------\n",
      "Groenlandia densa (L.) Fourr.                  Fischkraut                           1  strongly endangered  Oberrheinisches Tiefland  NoData           NoData           NoData       NoData                    NoData            NoData       NoData\n",
      "Potamogeto pectinatus                          Kamm Laichkraut                      1  not endangered       Oberrheinisches Tiefland  NoData           NoData           NoData       NoData                    NoData            NoData       NoData\n",
      "Potamogeton perfoliatus                        Durchwachsenes Laichkraut            1  pre warning          Oberrheinisches Tiefland  NoData           NoData           NoData       NoData                    NoData            NoData       NoData\n",
      "Hippuris vulgaris                              GewÃ¶hnlicher Tannenwedel            1  pre warning          Oberrheinisches Tiefland  NoData           NoData           NoData       NoData                    NoData            NoData       NoData\n",
      "Epilobium dodonaei                             Rosmarin Weidenroeschen              1  not endangered       Oberrheinisches Tiefland  NoData           NoData           NoData       NoData                    NoData            NoData       NoData\n",
      "Scrophularia canina                            Hunds Braunwurz                      1  not endangered       Oberrheinisches Tiefland  NoData           NoData           NoData       NoData                    NoData            NoData       NoData\n",
      "Calamagrostis pseudophragmites                 Ufer Reitgras                        1  strongly endangered  Oberrheinisches Tiefland  NoData           NoData           NoData       NoData                    NoData            NoData       NoData\n",
      "Gypsophila repens                              Kriechendes Gipskraut                1  not endangered       Oberrheinisches Tiefland  NoData           NoData           NoData       NoData                    NoData            NoData       NoData\n",
      "Salix nigricans                                Schwarz Weide                        1  not listed           Oberrheinisches Tiefland  NoData           NoData           NoData       NoData                    NoData            NoData       NoData\n",
      "Hippophae rhamnoides subsp. fluviatilis Soest  Fluss Sanddorn                       1  endangered           Oberrheinisches Tiefland  NoData           NoData           NoData       NoData                    NoData            Nodata       NoData\n",
      "Ulmus minor                                    Feld Ulme                            1  not endangered       Oberrheinisches Tiefland  NoData           NoData           NoData       50-280                    270               NoData       90\n",
      "Quercus robur                                  Stiel Eiche                          1  not endangered       Oberrheinisches Tiefland  NoData           70               NoData       30-150                    349               NoData       113\n",
      "Alnus glutinosa                                Schwarzerle                          1  not endangered       Oberrheinisches Tiefland  NoData           70               NoData       0-80                      312               50.0         29-45\n",
      "Populus nigra                                  Schwarzpappel                        1  not endangered       Oberrheinisches Tiefland  NoData           NoData           NoData       50-280                    160               NoData       NoData\n",
      "Populus alba                                   Silberpappel                         1  not endangered       Oberrheinisches Tiefland  NoData           NoData           NoData       NoData                    180               NoData       NoData\n",
      "Salix purpurea                                 Purpur Weide                         1  not endangered       Oberrheinisches Tiefland  NoData           NoData           NoData       NoData                    210               NoData       170\n",
      "Salix alba                                     Silber Weide                         1  not endangered       Oberrheinisches Tiefland  NoData           NoData           NoData       NoData                    350               NoData       169\n",
      "Salix eleagnos                                 Lavendel Weide                       1  pre warning          Oberrheinisches Tiefland  NoData           NoData           NoData       NoData                    NoData            NoData       NoData\n",
      "Fraxinus excelsior                             Gewoehnliche Esche                   1  not endangered       Oberrheinisches Tiefland  NoData           70               NoData       NoData                    340               25.0         45\n",
      "Rhamnus cathartica                             Purgier Kreuzdorn                    1  not endagnered       Oberrheinisches Tiefland  NoData           NoData           NoData       NoData                    190-200           50.0         NoData\n",
      "pinus sylvestris                               Gewoehnliche Kiefer                  1  not endangered       Oberrheinisches Tiefland  NoData           NoData           NoData       NoData                    NoData            NoData       NoData\n",
      "cornus sanguinea                               Blutroter Hartriegel                 1  not endangered       Oberrheinisches Tiefland  NoData           NoData           NoData       NoData                    200               50.0         120\n",
      "sambucus nigra                                 Schwarzer Holunder                   1  not endangered       Oberrheinisches Tiefland  NoData           NoData           NoData       NoData                    250               >50          NoData\n",
      "prunus spinosa                                 Schlehe                              1  not endangered       Oberrheinisches Tiefland  NoData           NoData           NoData       NoData                    250               50.0         NoData\n",
      "Euonymus europaeus                             Europaeisches Pfaffenhuetchen        1  not endangered       Oberrheinisches Tiefland  NoData           NoData           NoData       NoData                    190               NoData       117\n",
      "Status 1 equals nativ\n"
     ]
    }
   ],
   "source": [
    "habitat = input('Enter name of habitat\\n')\n",
    "query = \"habitat = '\" + habitat + \"'\"\n",
    "search_db_via_query(query)"
   ]
  },
  {
   "cell_type": "markdown",
   "metadata": {},
   "source": [
    "#### Defining the class \"Plant\" is enabling the usage of the habitat_search() function"
   ]
  },
  {
   "cell_type": "code",
   "execution_count": 8,
   "metadata": {},
   "outputs": [],
   "source": [
    "class Plant:\n",
    "    \"\"\"\n",
    "\n",
    "    \"\"\"\n",
    "\n",
    "    def __init__(self, species, name, nativ, habitat, endangered, waterdepthmin, waterdepthmax, rootdepth, groundwatertablechange, floodheightmax, floodloss, flooddurationmax):\n",
    "        \"\"\"\n",
    "\n",
    "        Args:\n",
    "            species (str): scientific plant name\n",
    "            name (str): common german plant name\n",
    "            nativ (bool): equals 1 if the plant is nativ, 0 if its not\n",
    "            habitat (str): habit name of the plant\n",
    "            endangered (str): information about the endangerment status of the plant\n",
    "            waterdepthmin (int): minimal required water depth\n",
    "            waterdepthmax (int): maximum depth to groundwater\n",
    "            rootdepth (int): average root depth\n",
    "            groundwatertablechange (varchar): maximum change in groundwater table that the plant can survive\n",
    "            floodheightmax (int): maximum flood height the plant can survive\n",
    "            floodloss (float): losses during maximum flood height and flooding days that occured in plant population\n",
    "            flooddurationmax (int): maximum number of flooding days the plant can survive\n",
    "        \"\"\"\n",
    "        self.species = species\n",
    "        self.name_german = name\n",
    "        self.status = nativ\n",
    "        self.is_endangered = endangered\n",
    "        self.habitat_in_germany = habitat\n",
    "        self.minimum_waterdepth = waterdepthmin\n",
    "        self.maximum_waterdepth = waterdepthmax\n",
    "        self.average_root_depth = rootdepth\n",
    "        self.change_of_groundwatertable = groundwatertablechange\n",
    "        self.critical_flood_height = floodheightmax\n",
    "        self.plant_mortality_during_critial_flooding = floodloss\n",
    "        self.critical_flood_duration = flooddurationmax\n",
    "\n",
    "    def print_habitat(self):\n",
    "        \"\"\"\n",
    "        prints the plant parameters as string in console\n",
    "\n",
    "        Returns:\n",
    "            String in console\n",
    "        \"\"\"\n",
    "        print('\\nscientific name:\\n{0}\\ncommon german name:\\n{1}\\nstatus:\\n{2}\\nendangered?:\\n{3}'.format(self.species,\n",
    "                                                                                        str(self.name_german),\n",
    "                                                                                        str(self.status),\n",
    "                                                                                        str(self.habitat_in_germany),\n",
    "                                                                                        str(self.is_endangered),\n",
    "                                                                                        str(self.minimum_waterdepth),\n",
    "                                                                                        str(self.maximum_waterdepth),\n",
    "                                                                                        str(self.average_root_depth),\n",
    "                                                                                        str(self.change_of_groundwatertable),\n",
    "                                                                                        str(self.critical_flood_height),\n",
    "                                                                                        str(self.plant_mortality_during_critial_flooding),\n",
    "                                                                                        str(self.critical_flood_duration)))"
   ]
  },
  {
   "cell_type": "markdown",
   "metadata": {},
   "source": [
    "#### habitat_search() is used to search the csv file for data"
   ]
  },
  {
   "cell_type": "code",
   "execution_count": 9,
   "metadata": {},
   "outputs": [],
   "source": [
    "def habitat_search(column, entry):\n",
    "    \"\"\"Function searches in csv file for vegetation matching the user input.\n",
    "\n",
    "    The function uses the console input to search for matching entries in the provided csv file,\n",
    "    if there are matching entries the function print_habitat gets called to print the information in the python console.\n",
    "\n",
    "    Args:\n",
    "        column(int): column in the .csv file\n",
    "        entry(int): entry in the .csv file\n",
    "\n",
    "    Returns:\n",
    "        String in console\n",
    "    \"\"\"\n",
    "    df = pd.read_csv('plantdata.csv', encoding='unicode_escape')\n",
    "    if platform.system() == 'Linux':\n",
    "        df = pd.read_csv('plantdata.csv')\n",
    "    else:\n",
    "        df = pd.read_csv('plantdata.csv', encoding='unicode_escape')\n",
    "    df1 = df.dropna()\n",
    "\n",
    "    def search(column, entry, df):\n",
    "        df2 = df1.to_numpy()\n",
    "        column = df[column]\n",
    "        for i in range(len(column)):\n",
    "            if column[i] == entry:\n",
    "                plant = Plant(df2[i, 0], df2[i, 1], df2[i, 2], df2[i, 3], df2[i, 4], df2[i, 5], df2[i, 6], df2[i, 7], df2[i, 8], df2[i, 9], df2[i, 10], df2[11])\n",
    "                plant.print_habitat()\n",
    "        else:\n",
    "            print('')\n",
    "\n",
    "    search(column, entry, df1)"
   ]
  },
  {
   "cell_type": "markdown",
   "metadata": {},
   "source": [
    "#### search_by_habitat() is asking for the user input and calls habitat_search. "
   ]
  },
  {
   "cell_type": "code",
   "execution_count": 10,
   "metadata": {},
   "outputs": [],
   "source": [
    "def search_by_habitat():\n",
    "    \"\"\"Function that enables the user to provide habitat input in console.\n",
    "\n",
    "    The function asks the user to provide the habitat name he wants to search for,\n",
    "    afterwards the input is given to the habitat_search() function and habitat_search() gets called.\n",
    "\n",
    "    Returns:\n",
    "        String in console to let the user know what the Status entries mean\n",
    "    \"\"\"\n",
    "    habitat = input('Enter name of habitat\\n')\n",
    "    habitat_search('habitat', habitat)\n",
    "    print('Status 1 equals nativ')"
   ]
  },
  {
   "cell_type": "markdown",
   "metadata": {},
   "source": [
    "#### To search for vegetation in the csv file, run search_by_habitat() and provide it with a habitat name (Alpenvorland, Niederrheinisches Tiefland or Oberrheinisches Tiefland). "
   ]
  },
  {
   "cell_type": "code",
   "execution_count": 11,
   "metadata": {
    "scrolled": false
   },
   "outputs": [
    {
     "name": "stdout",
     "output_type": "stream",
     "text": [
      "Enter name of habitat\n",
      "Niederrheinisches Tiefland\n",
      "\n",
      "scientific name:\n",
      "Betula pendula\n",
      "common german name:\n",
      "Haenge Birke\n",
      "status:\n",
      "1\n",
      "endangered?:\n",
      "not endangered\n",
      "\n",
      "scientific name:\n",
      "Quercus robur\n",
      "common german name:\n",
      "Stieleiche\n",
      "status:\n",
      "1\n",
      "endangered?:\n",
      "not endangered\n",
      "\n",
      "scientific name:\n",
      "Betula pubescens s.str.\n",
      "common german name:\n",
      "Moor Birke\n",
      "status:\n",
      "1\n",
      "endangered?:\n",
      "not endangered\n",
      "\n",
      "scientific name:\n",
      "Alnus glutinosa\n",
      "common german name:\n",
      "Schwarzerle\n",
      "status:\n",
      "1\n",
      "endangered?:\n",
      "not endangered\n",
      "\n",
      "scientific name:\n",
      "Fraxinus excelsior\n",
      "common german name:\n",
      "Gemeine Esche\n",
      "status:\n",
      "1\n",
      "endangered?:\n",
      "not endangered\n",
      "\n",
      "scientific name:\n",
      "Frangula alnus\n",
      "common german name:\n",
      "Echter Faulbaum\n",
      "status:\n",
      "1\n",
      "endangered?:\n",
      "not endangered\n",
      "\n",
      "scientific name:\n",
      "Ribes rubrum\n",
      "common german name:\n",
      "Rote Johannisbeere\n",
      "status:\n",
      "1\n",
      "endangered?:\n",
      "not endangered\n",
      "\n",
      "scientific name:\n",
      "Ribes nigrum\n",
      "common german name:\n",
      "Schwarze Johannisbeere\n",
      "status:\n",
      "1\n",
      "endangered?:\n",
      "not endangered\n",
      "\n",
      "scientific name:\n",
      "Rubus caesius\n",
      "common german name:\n",
      "Kratzbeere\n",
      "status:\n",
      "1\n",
      "endangered?:\n",
      "not endangered\n",
      "\n",
      "scientific name:\n",
      "Populus nigra\n",
      "common german name:\n",
      "Schwarzpappel\n",
      "status:\n",
      "1\n",
      "endangered?:\n",
      "edangered\n",
      "\n",
      "scientific name:\n",
      "Viburnum opulus\n",
      "common german name:\n",
      "Gewoehnlicher Schneeball\n",
      "status:\n",
      "1\n",
      "endangered?:\n",
      "not endangered\n",
      "\n",
      "scientific name:\n",
      "Prunus padus\n",
      "common german name:\n",
      "Gewoehnliche Traubenkirsche\n",
      "status:\n",
      "1\n",
      "endangered?:\n",
      "not endangered\n",
      "\n",
      "scientific name:\n",
      "Ulmus laevis\n",
      "common german name:\n",
      "Flatterulme\n",
      "status:\n",
      "1\n",
      "endangered?:\n",
      "pre warning\n",
      "\n",
      "scientific name:\n",
      "Salix fragilis\n",
      "common german name:\n",
      "Bruchweide\n",
      "status:\n",
      "1\n",
      "endangered?:\n",
      "not endangered\n",
      "\n",
      "scientific name:\n",
      "Salix viminalis\n",
      "common german name:\n",
      "Korbweide\n",
      "status:\n",
      "1\n",
      "endangered?:\n",
      "not endangered\n",
      "\n",
      "scientific name:\n",
      "Salix aurita\n",
      "common german name:\n",
      "Ohr Weide\n",
      "status:\n",
      "1\n",
      "endangered?:\n",
      "not endangered\n",
      "\n",
      "scientific name:\n",
      "Salix purpurea\n",
      "common german name:\n",
      "Purpur Weide\n",
      "status:\n",
      "1\n",
      "endangered?:\n",
      "not endangered\n",
      "\n",
      "scientific name:\n",
      "Ribes uva-crispa\n",
      "common german name:\n",
      "Stachelbeere\n",
      "status:\n",
      "1\n",
      "endangered?:\n",
      "not endangered\n",
      "\n",
      "scientific name:\n",
      "Ulmus minor\n",
      "common german name:\n",
      "Feldulme\n",
      "status:\n",
      "1\n",
      "endangered?:\n",
      "not endangered\n",
      "\n",
      "scientific name:\n",
      "Salix cinerea\n",
      "common german name:\n",
      "Grau Weide\n",
      "status:\n",
      "1\n",
      "endangered?:\n",
      "not endangered\n",
      "\n",
      "Status 1 equals nativ\n"
     ]
    }
   ],
   "source": [
    "search_by_habitat()"
   ]
  },
  {
   "cell_type": "markdown",
   "metadata": {},
   "source": [
    "#### point_in_bound() checks if the provided coordinates are inside of the used shapefile"
   ]
  },
  {
   "cell_type": "code",
   "execution_count": 12,
   "metadata": {},
   "outputs": [],
   "source": [
    "def point_in_bound(filename, x, y, area):\n",
    "    \"\"\"Function that checks if the coordinates provided by the user are in bound of the shapefile polygon.\n",
    "\n",
    "\n",
    "    If the provided coordinates are out of bounds, a string will be printed in the console to let the user know,\n",
    "    if they are matching one of the shapefiles, search_db_via_query() gets called.\n",
    "\n",
    "    Args:\n",
    "        filename (str): name of the shapefile\n",
    "        x (float): x - coordinate\n",
    "        y (float): y - coordinate\n",
    "        area (str): name of the study area\n",
    "\n",
    "    Returns:\n",
    "        string to console\n",
    "    \"\"\"\n",
    "    file_shape = geopandas.read_file(filename)\n",
    "    polygon = list(file_shape.geometry)[0]\n",
    "    point = Point(x, y)\n",
    "    if polygon.contains(point):\n",
    "        query = \"habitat = '\" + area + \"'\"\n",
    "        search_db_via_query(query)\n",
    "        print('Enter 1 if you want elevation data for the coordinates\\nEnter 2 if you dont want elevation data')\n",
    "        src = int(input('Enter here:'))\n",
    "\n",
    "        if src == 1:\n",
    "            elevation(x, y)\n",
    "        elif src == 2:\n",
    "            print('done')\n",
    "    else:\n",
    "        print('\\ncoordinates out of \\n' + area + '\\nplease check provided shapefile for suitable coordinates\\n')"
   ]
  },
  {
   "cell_type": "markdown",
   "metadata": {},
   "source": [
    "#### The elevation() function transforms the coordinates into rasterdata to provide information about the elevation"
   ]
  },
  {
   "cell_type": "code",
   "execution_count": 13,
   "metadata": {},
   "outputs": [],
   "source": [
    "def elevation(x, y):\n",
    "    \"\"\"Function used to get information about elevation at the provided coordinates.\n",
    "\n",
    "    Args:\n",
    "        x (float): x - coordinate\n",
    "        y (float): y - coordinate\n",
    "\n",
    "    Returns:\n",
    "        elevation data for coordinate input in console\n",
    "    \"\"\"\n",
    "    file = os.path.abspath(\"..\") + \"\\Shape\\Shape.vrt\"\n",
    "    layer = gdal.Open(file)\n",
    "    gt = layer.GetGeoTransform()\n",
    "    rasterx = int((x - gt[0]) / gt[1])\n",
    "    rastery = int((y - gt[3]) / gt[5])\n",
    "    print('elevation =', layer.GetRasterBand(1).ReadAsArray(rasterx, rastery, 1, 1)[0][0], 'm above sea level')"
   ]
  },
  {
   "cell_type": "markdown",
   "metadata": {},
   "source": [
    "#### search_by_coordinates() enables the user to provide coordinates and transforms them into float values, afterwards point_in_bound() gets called for all 3 shapefiles"
   ]
  },
  {
   "cell_type": "code",
   "execution_count": 14,
   "metadata": {},
   "outputs": [],
   "source": [
    "def search_by_coordinates():\n",
    "    \"\"\"Function that lets the user input coordinates.\n",
    "\n",
    "    After asking the user to input x and y coordinates, point_in_bound(..) gets called for the 3 provided shapefiles.\n",
    "    Afterwards the user gets asked if he wants to receive elevation data for the input coordinates.\n",
    "\n",
    "    Returns:\n",
    "    \"\"\"\n",
    "    print('CRS used is EPSG:3857 \\n for reference check https://epsg.io/3857 ')\n",
    "    x = float(input('Enter x coordinate\\n'))\n",
    "    y = float(input('Enter y coordinate\\n'))\n",
    "    point_in_bound(os.path.abspath(\"..\")+\"\\Shape\\prealpinebavaria.shp\", x, y, 'Alpenvorland')\n",
    "    point_in_bound(os.path.abspath(\"..\")+\"\\Shape\\oberrheinmaintiefland.shp\", x, y, 'Oberrheinisches Tiefland')\n",
    "    point_in_bound(os.path.abspath(\"..\")+\"\\Shape\\Tiefland.shp\", x, y, 'Niederrheinisches Tiefland')"
   ]
  },
  {
   "cell_type": "markdown",
   "metadata": {},
   "source": [
    "#### To actually search for vegetation by coordinates, run search_by_coordinates() and enter x and y coordinates. Note: as the function will tell you in the beginning, you need to use coordinates from the 3857 CRS. The link provided will lead you to a website where you can copy them."
   ]
  },
  {
   "cell_type": "code",
   "execution_count": 15,
   "metadata": {
    "scrolled": true
   },
   "outputs": [
    {
     "name": "stdout",
     "output_type": "stream",
     "text": [
      "CRS used is EPSG:3857 \n",
      " for reference check https://epsg.io/3857 \n",
      "Enter x coordinate\n",
      "724011.531917\n",
      "Enter y coordinate\n",
      "6704444.624949\n",
      "\n",
      "coordinates out of \n",
      "Alpenvorland\n",
      "please check provided shapefile for suitable coordinates\n",
      "\n",
      "\n",
      "coordinates out of \n",
      "Oberrheinisches Tiefland\n",
      "please check provided shapefile for suitable coordinates\n",
      "\n",
      "species                  name                           nativ  endangered      habitat                     waterdepthmin    waterdepthmax    rootdepth    groundwatertablechange    floodheightmax    floodloss    floodduration\n",
      "-----------------------  ---------------------------  -------  --------------  --------------------------  ---------------  ---------------  -----------  ------------------------  ----------------  -----------  ---------------\n",
      "Betula pendula           Haenge Birke                       1  not endangered  Niederrheinisches Tiefland  NoData           NoData           NoData       40-130                    240               25.0         NoData\n",
      "Quercus robur            Stieleiche                         1  not endangered  Niederrheinisches Tiefland  NoData           70               NoData       30-150                    349               NoData       113\n",
      "Betula pubescens s.str.  Moor Birke                         1  not endangered  Niederrheinisches Tiefland  NoData           NoData           NoData       0-30                      20                NoData       150\n",
      "Alnus glutinosa          Schwarzerle                        1  not endangered  Niederrheinisches Tiefland  NoData           70               NoData       0-80                      312               50.0         29-45\n",
      "Fraxinus excelsior       Gemeine Esche                      1  not endangered  Niederrheinisches Tiefland  NoData           70               NoData       NoData                    340               25.0         45\n",
      "Frangula alnus           Echter Faulbaum                    1  not endangered  Niederrheinisches Tiefland  NoData           NoData           NoData       10-30                     50                NoData       270\n",
      "Ribes rubrum             Rote Johannisbeere                 1  not endangered  Niederrheinisches Tiefland  NoData           NoData           NoData       NoData                    NoData            NoData       170\n",
      "Ribes nigrum             Schwarze Johannisbeere             1  not endangered  Niederrheinisches Tiefland  NoData           NoData           NoData       10-30                     50                NoData       90\n",
      "Rubus caesius            Kratzbeere                         1  not endangered  Niederrheinisches Tiefland  NoData           NoData           NoData       NoData                    300               NoData       120\n",
      "Populus nigra            Schwarzpappel                      1  edangered       Niederrheinisches Tiefland  NoData           NoData           NoData       50-280                    160               NoData       NoData\n",
      "Viburnum opulus          Gewoehnlicher Schneeball           1  not endangered  Niederrheinisches Tiefland  NoData           NoData           NoData       0-40                      200               25.0         120\n",
      "Prunus padus             Gewoehnliche Traubenkirsche        1  not endangered  Niederrheinisches Tiefland  NoData           NoData           NoData       10-60                     NoData            NoData       NoData\n",
      "Ulmus laevis             Flatterulme                        1  pre warning     Niederrheinisches Tiefland  NoData           NoData           NoData       50-280                    400               NoData       90\n",
      "Salix fragilis           Bruchweide                         1  not endangered  Niederrheinisches Tiefland  NoData           NoData           NoData       50-280                    350               NoData       170\n",
      "Salix viminalis          Korbweide                          1  not endangered  Niederrheinisches Tiefland  NoData           NoData           NoData       50-280                    >250              NoData       170\n",
      "Salix aurita             Ohr Weide                          1  not endangered  Niederrheinisches Tiefland  NoData           NoData           NoData       0-20                      NoData            NoData       NoData\n",
      "Salix purpurea           Purpur Weide                       1  not endangered  Niederrheinisches Tiefland  NoData           NoData           NoData       NoData                    350               NoData       170\n",
      "Ribes uva-crispa         Stachelbeere                       1  not endangered  Niederrheinisches Tiefland  NoData           NoData           NoData       NoData                    NoData            NoData       NoData\n",
      "Ulmus minor              Feldulme                           1  not endangered  Niederrheinisches Tiefland  NoData           NoData           NoData       50-280                    270               NoData       90\n",
      "Salix cinerea            Grau Weide                         1  not endangered  Niederrheinisches Tiefland  NoData           NoData           NoData       10cm-30cm                 200               NoData       270\n",
      "Status 1 equals nativ\n",
      "Enter 1 if you want elevation data for the coordinates\n",
      "Enter 2 if you dont want elevation data\n",
      "Enter here:1\n",
      "elevation = 33 m above sea level\n"
     ]
    }
   ],
   "source": [
    "search_by_coordinates()"
   ]
  },
  {
   "cell_type": "markdown",
   "metadata": {},
   "source": [
    "#### The function question() provides the option for an easy usage of the tool, asking directly which search option you want to choose"
   ]
  },
  {
   "cell_type": "code",
   "execution_count": 18,
   "metadata": {},
   "outputs": [],
   "source": [
    "def question():\n",
    "    \"\"\"Function to let the user decide if he wants to search by habitat in csv file, search by habitat in database or search by coordinates.\n",
    "\n",
    "    The function prints a string in the console to ask the user if he wants to search by putting in coordinates or the name of the habitat,\n",
    "    furthermore it is asking the user if he wants to search by the name of the habitat in the provided csv file or database.\n",
    "    If option 1 is chosen, user is asked for an habitat name before calling search_db_via_query()\n",
    "\n",
    "    Args:\n",
    "        1 (int): calls search_db_via_query()\n",
    "        2 (int): calls search_by_coordinates()\n",
    "        3 (int): calls search_by_habitat()\n",
    "\n",
    "    Returns:\n",
    "        text string 'no data' if the input is anything else then 1, 2 or 3\n",
    "    \"\"\"\n",
    "    print('Enter 1 to search database by habitat with detailed information\\nEnter 2 to search database by coordinates \\nEnter 3 to search by habitat in csv file for a quick overview without detail')\n",
    "    print('habitat search options so far:\\n Alpenvorland, Niederrheinisches Tiefland, Oberrheinisches Tiefland')\n",
    "    src = int(input('Enter here:'))\n",
    "\n",
    "    if src == 1:\n",
    "        habitat = input('Enter name of habitat\\n')\n",
    "        query = \"habitat = '\" + habitat + \"'\"\n",
    "        search_db_via_query(query)\n",
    "    elif src == 2:\n",
    "        search_by_coordinates()\n",
    "    elif src == 3:\n",
    "        search_by_habitat()\n",
    "    else:\n",
    "        print('no data')"
   ]
  },
  {
   "cell_type": "markdown",
   "metadata": {},
   "source": [
    "#### Run question() if you want to choose for one of the search functions."
   ]
  },
  {
   "cell_type": "code",
   "execution_count": 20,
   "metadata": {},
   "outputs": [
    {
     "name": "stdout",
     "output_type": "stream",
     "text": [
      "Enter 1 to search database by habitat with detailed information\n",
      "Enter 2 to search database by coordinates \n",
      "Enter 3 to search by habitat in csv file for a quick overview without detail\n",
      "habitat search options so far:\n",
      " Alpenvorland, Niederrheinisches Tiefland, Oberrheinisches Tiefland\n",
      "Enter here:2\n",
      "CRS used is EPSG:3857 \n",
      " for reference check https://epsg.io/3857 \n",
      "Enter x coordinate\n",
      "1242560.331804\n",
      "Enter y coordinate\n",
      "6056258.625091\n",
      "species                         name                           nativ  endangered                  habitat       waterdepthmin    waterdepthmax    rootdepth    groundwatertablechange    floodheightmax    floodloss    floodduration\n",
      "------------------------------  ---------------------------  -------  --------------------------  ------------  ---------------  ---------------  -----------  ------------------------  ----------------  -----------  ---------------\n",
      "Alnus incana                    Grauerle                           1  not endangered              Alpenvorland  NoData           NoData           Nodata       NoData                    282               25.0         NoData\n",
      "Carex sylvatica                 Wald Segge                         1  not endangered              Alpenvorland  NoData           NoData           NoData       NoData                    NoData            NoData       NoData\n",
      "carex acuta                     Schlanke Segge                     1  not endangered              Alpenvorland  NoData           NoData           NoData       NoData                    NoData            NoData       NoData\n",
      "circae lutetiana                Grosses hexenkraut                 1  not endangered              Alpenvorland  NoData           NoData           NoData       NoData                    NoData            NoData       NoData\n",
      "clematis vitalba                Gewoehnliche Waldrebe              1  not endangered              Alpenvorland  NoData           NoData           NoData       NoData                    NoData            NoData       NoData\n",
      "fraxinus excelsior              Gemeine Esche                      1  not endangered              Alpenvorland  NoData           70               NoData       NoData                    340               25.0         45\n",
      "Hydrocharis morsus ranae        Froschbiss                         1  pre warning                 Alpenvorland  20               40               NoData       NoData                    NoData            NoData       NoData\n",
      "Humulus lupulus                 Hopfen                             1  not endangered              Alpenvorland  NoData           NoData           NoData       NoData                    NoData            NoData       NoData\n",
      "Myricaria germanica             Deutsche Tamariske                 1  threatened with extinction  Alpenvorland  NoData           180              NoData       NoData                    NoData            NoData       NoData\n",
      "Phalaris arundinacea            Rohrglanzgras                      1  not endangered              Alpenvorland  NoData           130              NoData       NoData                    NoData            NoData       NoData\n",
      "Phragmites australis            Schilfrohr                         1  not endangered              Alpenvorland  NoData           NoData           NoData       NoData                    NoData            NoData       NoData\n",
      "Populus nigra                   Schwarzpappel                      1  endangered                  Alpenvorland  NoData           NoData           NoData       50-280                    160               NoData       NoData\n",
      "Populus alba                    Silberpappel                       1  not endangered              Alpenvorland  NoData           NoData           NoData       NoData                    180               NoData       NoData\n",
      "Potamogeton pectinatus          Kamm Laichkraut                    1  not endangered              Alpenvorland  20               350              NoData       NoData                    NoData            NoData       NoData\n",
      "Salix purpurea                  Purpur Weide                       1  not endangered              Alpenvorland  NoData           NoData           NoData       NoData                    210               NoData       170\n",
      "Salix alba                      Silber Weide                       1  not endangered              Alpenvorland  NoData           NoData           NoData       NoData                    350               NoData       169\n",
      "Salix fragilis                  Bruch Weide                        1  not endangered              Alpenvorland  NoData           NoData           NoData       50-280                    351               NoData       170\n",
      "Salix eleagnos                  Lavendel Weide                     1  pre warning                 Alpenvorland  NoData           NoData           NoData       NoData                    NoData            NoData       NoData\n",
      "Solanum Dulcamara               Bittersuesser Nachtschatten        1  not endangered              Alpenvorland  NoData           NoData           NoData       NoData                    NoData            NoData       NoData\n",
      "Sparganium erectum              Aestiger Igelkolben                1  not endangered              Alpenvorland  NoData           NoData           NoData       NoData                    NoData            NoData       NoData\n",
      "Typha latifolia                 Breitblaettriger Rohrkolben        1  not endangered              Alpenvorland  NoData           NoData           NoData       NoData                    200               NoData       NoData\n",
      "Calamagrostis pseudophragmites  Ufer Reitgras                      1  strongly endangered         Alpenvorland  NoData           NoData           NoData       NoData                    NoData            NoData       NoData\n",
      "Status 1 equals nativ\n",
      "Enter 1 if you want elevation data for the coordinates\n",
      "Enter 2 if you dont want elevation data\n",
      "Enter here:1\n",
      "elevation = 647 m above sea level\n",
      "\n",
      "coordinates out of \n",
      "Oberrheinisches Tiefland\n",
      "please check provided shapefile for suitable coordinates\n",
      "\n",
      "\n",
      "coordinates out of \n",
      "Niederrheinisches Tiefland\n",
      "please check provided shapefile for suitable coordinates\n",
      "\n"
     ]
    }
   ],
   "source": [
    "question()"
   ]
  }
 ],
 "metadata": {
  "kernelspec": {
   "display_name": "Python 3",
   "language": "python",
   "name": "python3"
  },
  "language_info": {
   "codemirror_mode": {
    "name": "ipython",
    "version": 3
   },
   "file_extension": ".py",
   "mimetype": "text/x-python",
   "name": "python",
   "nbconvert_exporter": "python",
   "pygments_lexer": "ipython3",
   "version": "3.7.8"
  }
 },
 "nbformat": 4,
 "nbformat_minor": 4
}
